{
 "cells": [
  {
   "cell_type": "code",
   "execution_count": 6,
   "id": "bbc1adf2-f279-45e3-81d1-825fbc296da3",
   "metadata": {
    "tags": []
   },
   "outputs": [
    {
     "name": "stdout",
     "output_type": "stream",
     "text": [
      "2023-03-07 10:54:48.537774: I tensorflow/core/platform/cpu_feature_guard.cc:193] This TensorFlow binary is optimized with oneAPI Deep Neural Network Library (oneDNN) to use the following CPU instructions in performance-critical operations:  AVX2 AVX512F AVX512_VNNI FMA\n",
      "To enable them in other operations, rebuild TensorFlow with the appropriate compiler flags.\n",
      "2023-03-07 10:54:48.686932: I tensorflow/core/util/port.cc:104] oneDNN custom operations are on. You may see slightly different numerical results due to floating-point round-off errors from different computation orders. To turn them off, set the environment variable `TF_ENABLE_ONEDNN_OPTS=0`.\n",
      "2023-03-07 10:54:50.363625: I tensorflow/core/platform/cpu_feature_guard.cc:193] This TensorFlow binary is optimized with oneAPI Deep Neural Network Library (oneDNN) to use the following CPU instructions in performance-critical operations:  AVX2 AVX512F AVX512_VNNI FMA\n",
      "To enable them in other operations, rebuild TensorFlow with the appropriate compiler flags.\n",
      "2023-03-07 10:54:51.065088: I tensorflow/core/common_runtime/gpu/gpu_device.cc:1613] Created device /job:localhost/replica:0/task:0/device:GPU:0 with 78972 MB memory:  -> device: 0, name: NVIDIA A100 80GB PCIe, pci bus id: 0000:4b:00.0, compute capability: 8.0\n",
      "Epoch 1/10\n",
      "2023-03-07 10:54:54.052836: I tensorflow/compiler/xla/stream_executor/cuda/cuda_blas.cc:630] TensorFloat-32 will be used for the matrix multiplication. This will only be logged once.\n",
      "2023-03-07 10:54:54.055715: I tensorflow/compiler/xla/service/service.cc:173] XLA service 0x7ee7fd66af70 initialized for platform CUDA (this does not guarantee that XLA will be used). Devices:\n",
      "2023-03-07 10:54:54.055750: I tensorflow/compiler/xla/service/service.cc:181]   StreamExecutor device (0): NVIDIA A100 80GB PCIe, Compute Capability 8.0\n",
      "2023-03-07 10:54:54.061563: I tensorflow/compiler/mlir/tensorflow/utils/dump_mlir_util.cc:268] disabling MLIR crash reproducer, set env var `MLIR_CRASH_REPRODUCER_DIRECTORY` to enable.\n",
      "2023-03-07 10:54:54.212225: I tensorflow/compiler/jit/xla_compilation_cache.cc:477] Compiled cluster using XLA!  This line is logged at most once for the lifetime of the process.\n",
      "1500/1500 [==============================] - 9s 4ms/step - loss: 0.4131 - accuracy: 0.8801 - val_loss: 0.2250 - val_accuracy: 0.9370\n",
      "Epoch 2/10\n",
      "1500/1500 [==============================] - 8s 5ms/step - loss: 0.1992 - accuracy: 0.9412 - val_loss: 0.1774 - val_accuracy: 0.9495\n",
      "Epoch 3/10\n",
      "1500/1500 [==============================] - 7s 5ms/step - loss: 0.1585 - accuracy: 0.9537 - val_loss: 0.1602 - val_accuracy: 0.9527\n",
      "Epoch 4/10\n",
      "1500/1500 [==============================] - 8s 5ms/step - loss: 0.1343 - accuracy: 0.9594 - val_loss: 0.1471 - val_accuracy: 0.9572\n",
      "Epoch 5/10\n",
      "1500/1500 [==============================] - 8s 5ms/step - loss: 0.1177 - accuracy: 0.9643 - val_loss: 0.1494 - val_accuracy: 0.9557\n",
      "Epoch 6/10\n",
      "1500/1500 [==============================] - 8s 5ms/step - loss: 0.1058 - accuracy: 0.9677 - val_loss: 0.1345 - val_accuracy: 0.9609\n",
      "Epoch 7/10\n",
      "1500/1500 [==============================] - 8s 5ms/step - loss: 0.0939 - accuracy: 0.9708 - val_loss: 0.1424 - val_accuracy: 0.9588\n",
      "Epoch 8/10\n",
      "1500/1500 [==============================] - 8s 5ms/step - loss: 0.0871 - accuracy: 0.9720 - val_loss: 0.1358 - val_accuracy: 0.9603\n",
      "Epoch 9/10\n",
      "1500/1500 [==============================] - 8s 5ms/step - loss: 0.0787 - accuracy: 0.9753 - val_loss: 0.1302 - val_accuracy: 0.9628\n",
      "Epoch 10/10\n",
      "1500/1500 [==============================] - 8s 5ms/step - loss: 0.0740 - accuracy: 0.9775 - val_loss: 0.1394 - val_accuracy: 0.9598\n",
      "313/313 [==============================] - 1s 4ms/step - loss: 0.1292 - accuracy: 0.9622\n",
      "[0.1292041689157486, 0.9621999859809875]\n",
      "Model: \"fc_net\"\n",
      "_________________________________________________________________\n",
      " Layer (type)                Output Shape              Param #   \n",
      "=================================================================\n",
      " flatten (Flatten)           (None, 784)               0         \n",
      "                                                                 \n",
      " dense (Dense)               (None, 32)                25120     \n",
      "                                                                 \n",
      " dense_1 (Dense)             (None, 16)                528       \n",
      "                                                                 \n",
      " dense_2 (Dense)             (None, 10)                170       \n",
      "                                                                 \n",
      "=================================================================\n",
      "Total params: 25,818\n",
      "Trainable params: 25,818\n",
      "Non-trainable params: 0\n",
      "_________________________________________________________________\n"
     ]
    }
   ],
   "source": [
    "!python train.py"
   ]
  },
  {
   "cell_type": "code",
   "execution_count": 7,
   "id": "310ba011-04af-46d2-b2a2-c6f085eb10fe",
   "metadata": {
    "tags": []
   },
   "outputs": [
    {
     "name": "stdout",
     "output_type": "stream",
     "text": [
      "2023-03-07 10:56:35.643655: I tensorflow/core/platform/cpu_feature_guard.cc:193] This TensorFlow binary is optimized with oneAPI Deep Neural Network Library (oneDNN) to use the following CPU instructions in performance-critical operations:  AVX2 AVX512F AVX512_VNNI FMA\n",
      "To enable them in other operations, rebuild TensorFlow with the appropriate compiler flags.\n",
      "2023-03-07 10:56:35.796878: I tensorflow/core/util/port.cc:104] oneDNN custom operations are on. You may see slightly different numerical results due to floating-point round-off errors from different computation orders. To turn them off, set the environment variable `TF_ENABLE_ONEDNN_OPTS=0`.\n",
      "2023-03-07 10:56:37.508007: I tensorflow/core/platform/cpu_feature_guard.cc:193] This TensorFlow binary is optimized with oneAPI Deep Neural Network Library (oneDNN) to use the following CPU instructions in performance-critical operations:  AVX2 AVX512F AVX512_VNNI FMA\n",
      "To enable them in other operations, rebuild TensorFlow with the appropriate compiler flags.\n",
      "2023-03-07 10:56:38.199000: I tensorflow/core/common_runtime/gpu/gpu_device.cc:1613] Created device /job:localhost/replica:0/task:0/device:GPU:0 with 78972 MB memory:  -> device: 0, name: NVIDIA A100 80GB PCIe, pci bus id: 0000:4b:00.0, compute capability: 8.0\n",
      "2023-03-07 10:56:40.313812: I tensorflow/compiler/xla/stream_executor/cuda/cuda_blas.cc:630] TensorFloat-32 will be used for the matrix multiplication. This will only be logged once.\n",
      "313/313 [==============================] - 1s 2ms/step - loss: 0.1292 - accuracy: 0.9622\n",
      "313/313 [==============================] - 1s 4ms/step - loss: 15.9565 - accuracy: 0.9624\n",
      "Original model: loss: 0.1292041689157486, acc: 0.9621999859809875\n",
      "Mixed-precision model: loss: 15.956459045410156, acc: 0.9624000191688538\n"
     ]
    }
   ],
   "source": [
    "! python main_phase1.py"
   ]
  },
  {
   "cell_type": "code",
   "execution_count": 8,
   "id": "a9e0d80b-e7c6-4608-8d10-713c5a5f075d",
   "metadata": {
    "tags": []
   },
   "outputs": [
    {
     "name": "stdout",
     "output_type": "stream",
     "text": [
      "2023-03-07 10:57:02.451761: I tensorflow/core/platform/cpu_feature_guard.cc:193] This TensorFlow binary is optimized with oneAPI Deep Neural Network Library (oneDNN) to use the following CPU instructions in performance-critical operations:  AVX2 AVX512F AVX512_VNNI FMA\n",
      "To enable them in other operations, rebuild TensorFlow with the appropriate compiler flags.\n",
      "2023-03-07 10:57:02.585385: I tensorflow/core/util/port.cc:104] oneDNN custom operations are on. You may see slightly different numerical results due to floating-point round-off errors from different computation orders. To turn them off, set the environment variable `TF_ENABLE_ONEDNN_OPTS=0`.\n",
      "2023-03-07 10:57:04.011249: I tensorflow/core/platform/cpu_feature_guard.cc:193] This TensorFlow binary is optimized with oneAPI Deep Neural Network Library (oneDNN) to use the following CPU instructions in performance-critical operations:  AVX2 AVX512F AVX512_VNNI FMA\n",
      "To enable them in other operations, rebuild TensorFlow with the appropriate compiler flags.\n",
      "2023-03-07 10:57:04.719918: I tensorflow/core/common_runtime/gpu/gpu_device.cc:1613] Created device /job:localhost/replica:0/task:0/device:GPU:0 with 78972 MB memory:  -> device: 0, name: NVIDIA A100 80GB PCIe, pci bus id: 0000:4b:00.0, compute capability: 8.0\n",
      "2023-03-07 10:57:06.793958: I tensorflow/compiler/xla/stream_executor/cuda/cuda_blas.cc:630] TensorFloat-32 will be used for the matrix multiplication. This will only be logged once.\n",
      "313/313 [==============================] - 1s 2ms/step - loss: 0.1292 - accuracy: 0.9622\n",
      "313/313 [==============================] - 1s 3ms/step - loss: 15.9565 - accuracy: 0.9624\n",
      "Original model: loss: 0.1292041689157486, acc: 0.9621999859809875\n",
      "Mixed-precision model: loss: 15.956459045410156, acc: 0.9624000191688538\n"
     ]
    }
   ],
   "source": [
    "! python main_phase1.py"
   ]
  },
  {
   "cell_type": "code",
   "execution_count": 9,
   "id": "009f0f99-69ab-4cde-b1aa-4526e50e8587",
   "metadata": {
    "tags": []
   },
   "outputs": [
    {
     "name": "stdout",
     "output_type": "stream",
     "text": [
      "2023-03-07 10:57:32.633998: I tensorflow/core/platform/cpu_feature_guard.cc:193] This TensorFlow binary is optimized with oneAPI Deep Neural Network Library (oneDNN) to use the following CPU instructions in performance-critical operations:  AVX2 AVX512F AVX512_VNNI FMA\n",
      "To enable them in other operations, rebuild TensorFlow with the appropriate compiler flags.\n",
      "2023-03-07 10:57:32.783245: I tensorflow/core/util/port.cc:104] oneDNN custom operations are on. You may see slightly different numerical results due to floating-point round-off errors from different computation orders. To turn them off, set the environment variable `TF_ENABLE_ONEDNN_OPTS=0`.\n",
      "2023-03-07 10:57:34.401197: I tensorflow/core/platform/cpu_feature_guard.cc:193] This TensorFlow binary is optimized with oneAPI Deep Neural Network Library (oneDNN) to use the following CPU instructions in performance-critical operations:  AVX2 AVX512F AVX512_VNNI FMA\n",
      "To enable them in other operations, rebuild TensorFlow with the appropriate compiler flags.\n",
      "2023-03-07 10:57:35.159763: I tensorflow/core/common_runtime/gpu/gpu_device.cc:1613] Created device /job:localhost/replica:0/task:0/device:GPU:0 with 78972 MB memory:  -> device: 0, name: NVIDIA A100 80GB PCIe, pci bus id: 0000:4b:00.0, compute capability: 8.0\n",
      "2023-03-07 10:57:38.027872: I tensorflow/compiler/xla/stream_executor/cuda/cuda_blas.cc:630] TensorFloat-32 will be used for the matrix multiplication. This will only be logged once.\n",
      "313/313 [==============================] - 1s 2ms/step - loss: 0.1292 - accuracy: 0.9622\n",
      "313/313 [==============================] - 1s 2ms/step - loss: 15.9569 - accuracy: 0.9622\n",
      "Original model: loss: 0.1292041689157486, acc: 0.9621999859809875\n",
      "Mixed-precision model: loss: 15.956937789916992, acc: 0.9621999859809875\n"
     ]
    }
   ],
   "source": [
    "! python main_phase1.py"
   ]
  },
  {
   "cell_type": "code",
   "execution_count": 10,
   "id": "6d2a1d0f-e163-41de-9cd6-9a6699c20e7d",
   "metadata": {
    "tags": []
   },
   "outputs": [
    {
     "name": "stdout",
     "output_type": "stream",
     "text": [
      "2023-03-07 10:58:13.258801: I tensorflow/core/platform/cpu_feature_guard.cc:193] This TensorFlow binary is optimized with oneAPI Deep Neural Network Library (oneDNN) to use the following CPU instructions in performance-critical operations:  AVX2 AVX512F AVX512_VNNI FMA\n",
      "To enable them in other operations, rebuild TensorFlow with the appropriate compiler flags.\n",
      "2023-03-07 10:58:13.404738: I tensorflow/core/util/port.cc:104] oneDNN custom operations are on. You may see slightly different numerical results due to floating-point round-off errors from different computation orders. To turn them off, set the environment variable `TF_ENABLE_ONEDNN_OPTS=0`.\n",
      "2023-03-07 10:58:14.830579: I tensorflow/core/platform/cpu_feature_guard.cc:193] This TensorFlow binary is optimized with oneAPI Deep Neural Network Library (oneDNN) to use the following CPU instructions in performance-critical operations:  AVX2 AVX512F AVX512_VNNI FMA\n",
      "To enable them in other operations, rebuild TensorFlow with the appropriate compiler flags.\n",
      "2023-03-07 10:58:15.513394: I tensorflow/core/common_runtime/gpu/gpu_device.cc:1613] Created device /job:localhost/replica:0/task:0/device:GPU:0 with 78972 MB memory:  -> device: 0, name: NVIDIA A100 80GB PCIe, pci bus id: 0000:4b:00.0, compute capability: 8.0\n",
      "2023-03-07 10:58:17.835168: I tensorflow/compiler/xla/stream_executor/cuda/cuda_blas.cc:630] TensorFloat-32 will be used for the matrix multiplication. This will only be logged once.\n",
      "313/313 [==============================] - 1s 3ms/step - loss: 0.1292 - accuracy: 0.9622\n",
      "313/313 [==============================] - 1s 3ms/step - loss: 15.9569 - accuracy: 0.9622\n",
      "Original model: loss: 0.1292041689157486, acc: 0.9621999859809875\n",
      "Mixed-precision model: loss: 15.956937789916992, acc: 0.9621999859809875\n"
     ]
    }
   ],
   "source": [
    "! python main_phase1.py"
   ]
  },
  {
   "cell_type": "code",
   "execution_count": null,
   "id": "db838b76-73fc-4668-9a3b-1551a77d6574",
   "metadata": {},
   "outputs": [],
   "source": []
  }
 ],
 "metadata": {
  "kernelspec": {
   "display_name": "Python 3",
   "language": "python",
   "name": "python3"
  },
  "language_info": {
   "codemirror_mode": {
    "name": "ipython",
    "version": 3
   },
   "file_extension": ".py",
   "mimetype": "text/x-python",
   "name": "python",
   "nbconvert_exporter": "python",
   "pygments_lexer": "ipython3",
   "version": "3.8.10"
  }
 },
 "nbformat": 4,
 "nbformat_minor": 5
}
