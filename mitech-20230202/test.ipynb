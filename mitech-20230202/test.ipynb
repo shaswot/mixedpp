{
 "cells": [
  {
   "cell_type": "code",
   "execution_count": 1,
   "id": "bbc1adf2-f279-45e3-81d1-825fbc296da3",
   "metadata": {
    "tags": []
   },
   "outputs": [
    {
     "name": "stdout",
     "output_type": "stream",
     "text": [
      "2023-03-07 10:39:26.262208: I tensorflow/core/platform/cpu_feature_guard.cc:193] This TensorFlow binary is optimized with oneAPI Deep Neural Network Library (oneDNN) to use the following CPU instructions in performance-critical operations:  AVX2 AVX512F AVX512_VNNI FMA\n",
      "To enable them in other operations, rebuild TensorFlow with the appropriate compiler flags.\n",
      "2023-03-07 10:39:26.410663: I tensorflow/core/util/port.cc:104] oneDNN custom operations are on. You may see slightly different numerical results due to floating-point round-off errors from different computation orders. To turn them off, set the environment variable `TF_ENABLE_ONEDNN_OPTS=0`.\n",
      "Downloading data from https://storage.googleapis.com/tensorflow/tf-keras-datasets/mnist.npz\n",
      "11490434/11490434 [==============================] - 0s 0us/step\n",
      "2023-03-07 10:39:28.668278: I tensorflow/core/platform/cpu_feature_guard.cc:193] This TensorFlow binary is optimized with oneAPI Deep Neural Network Library (oneDNN) to use the following CPU instructions in performance-critical operations:  AVX2 AVX512F AVX512_VNNI FMA\n",
      "To enable them in other operations, rebuild TensorFlow with the appropriate compiler flags.\n",
      "2023-03-07 10:39:29.519981: I tensorflow/core/common_runtime/gpu/gpu_device.cc:1613] Created device /job:localhost/replica:0/task:0/device:GPU:0 with 78972 MB memory:  -> device: 0, name: NVIDIA A100 80GB PCIe, pci bus id: 0000:4b:00.0, compute capability: 8.0\n",
      "Epoch 1/10\n",
      "2023-03-07 10:39:32.923771: I tensorflow/compiler/xla/stream_executor/cuda/cuda_blas.cc:630] TensorFloat-32 will be used for the matrix multiplication. This will only be logged once.\n",
      "2023-03-07 10:39:33.082330: I tensorflow/compiler/xla/service/service.cc:173] XLA service 0x7f7e360e5d90 initialized for platform CUDA (this does not guarantee that XLA will be used). Devices:\n",
      "2023-03-07 10:39:33.082368: I tensorflow/compiler/xla/service/service.cc:181]   StreamExecutor device (0): NVIDIA A100 80GB PCIe, Compute Capability 8.0\n",
      "2023-03-07 10:39:33.087526: I tensorflow/compiler/mlir/tensorflow/utils/dump_mlir_util.cc:268] disabling MLIR crash reproducer, set env var `MLIR_CRASH_REPRODUCER_DIRECTORY` to enable.\n",
      "2023-03-07 10:39:33.255021: I tensorflow/compiler/jit/xla_compilation_cache.cc:477] Compiled cluster using XLA!  This line is logged at most once for the lifetime of the process.\n",
      "1500/1500 [==============================] - 10s 5ms/step - loss: 0.4239 - accuracy: 0.8780 - val_loss: 0.2269 - val_accuracy: 0.9344\n",
      "Epoch 2/10\n",
      "1500/1500 [==============================] - 7s 5ms/step - loss: 0.2067 - accuracy: 0.9408 - val_loss: 0.1838 - val_accuracy: 0.9460\n",
      "Epoch 3/10\n",
      "1500/1500 [==============================] - 7s 5ms/step - loss: 0.1645 - accuracy: 0.9527 - val_loss: 0.1596 - val_accuracy: 0.9541\n",
      "Epoch 4/10\n",
      "1500/1500 [==============================] - 8s 5ms/step - loss: 0.1374 - accuracy: 0.9593 - val_loss: 0.1591 - val_accuracy: 0.9515\n",
      "Epoch 5/10\n",
      "1500/1500 [==============================] - 7s 5ms/step - loss: 0.1190 - accuracy: 0.9653 - val_loss: 0.1434 - val_accuracy: 0.9593\n",
      "Epoch 6/10\n",
      "1500/1500 [==============================] - 7s 5ms/step - loss: 0.1056 - accuracy: 0.9680 - val_loss: 0.1324 - val_accuracy: 0.9613\n",
      "Epoch 7/10\n",
      "1500/1500 [==============================] - 7s 5ms/step - loss: 0.0935 - accuracy: 0.9719 - val_loss: 0.1405 - val_accuracy: 0.9586\n",
      "Epoch 8/10\n",
      "1500/1500 [==============================] - 7s 5ms/step - loss: 0.0849 - accuracy: 0.9744 - val_loss: 0.1400 - val_accuracy: 0.9626\n",
      "Epoch 9/10\n",
      "1500/1500 [==============================] - 7s 5ms/step - loss: 0.0785 - accuracy: 0.9755 - val_loss: 0.1344 - val_accuracy: 0.9632\n",
      "Epoch 10/10\n",
      "1500/1500 [==============================] - 7s 5ms/step - loss: 0.0724 - accuracy: 0.9783 - val_loss: 0.1502 - val_accuracy: 0.9595\n",
      "313/313 [==============================] - 1s 4ms/step - loss: 0.1445 - accuracy: 0.9600\n",
      "[0.14454832673072815, 0.9599999785423279]\n",
      "Model: \"fc_net\"\n",
      "_________________________________________________________________\n",
      " Layer (type)                Output Shape              Param #   \n",
      "=================================================================\n",
      " flatten (Flatten)           (None, 784)               0         \n",
      "                                                                 \n",
      " dense (Dense)               (None, 32)                25120     \n",
      "                                                                 \n",
      " dense_1 (Dense)             (None, 16)                528       \n",
      "                                                                 \n",
      " dense_2 (Dense)             (None, 10)                170       \n",
      "                                                                 \n",
      "=================================================================\n",
      "Total params: 25,818\n",
      "Trainable params: 25,818\n",
      "Non-trainable params: 0\n",
      "_________________________________________________________________\n"
     ]
    }
   ],
   "source": [
    "!python train.py"
   ]
  },
  {
   "cell_type": "code",
   "execution_count": 2,
   "id": "310ba011-04af-46d2-b2a2-c6f085eb10fe",
   "metadata": {
    "tags": []
   },
   "outputs": [
    {
     "name": "stdout",
     "output_type": "stream",
     "text": [
      "2023-03-07 10:42:44.167322: I tensorflow/core/platform/cpu_feature_guard.cc:193] This TensorFlow binary is optimized with oneAPI Deep Neural Network Library (oneDNN) to use the following CPU instructions in performance-critical operations:  AVX2 AVX512F AVX512_VNNI FMA\n",
      "To enable them in other operations, rebuild TensorFlow with the appropriate compiler flags.\n",
      "2023-03-07 10:42:44.317893: I tensorflow/core/util/port.cc:104] oneDNN custom operations are on. You may see slightly different numerical results due to floating-point round-off errors from different computation orders. To turn them off, set the environment variable `TF_ENABLE_ONEDNN_OPTS=0`.\n",
      "2023-03-07 10:42:45.900585: I tensorflow/core/platform/cpu_feature_guard.cc:193] This TensorFlow binary is optimized with oneAPI Deep Neural Network Library (oneDNN) to use the following CPU instructions in performance-critical operations:  AVX2 AVX512F AVX512_VNNI FMA\n",
      "To enable them in other operations, rebuild TensorFlow with the appropriate compiler flags.\n",
      "2023-03-07 10:42:46.625005: I tensorflow/core/common_runtime/gpu/gpu_device.cc:1613] Created device /job:localhost/replica:0/task:0/device:GPU:0 with 78972 MB memory:  -> device: 0, name: NVIDIA A100 80GB PCIe, pci bus id: 0000:4b:00.0, compute capability: 8.0\n",
      "Mixed-precision matrix file not found -> randomly create one\n",
      "2023-03-07 10:42:48.932271: I tensorflow/compiler/xla/stream_executor/cuda/cuda_blas.cc:630] TensorFloat-32 will be used for the matrix multiplication. This will only be logged once.\n",
      "313/313 [==============================] - 1s 2ms/step - loss: 0.1445 - accuracy: 0.9600\n",
      "313/313 [==============================] - 2s 4ms/step - loss: 16.0360 - accuracy: 0.9603\n",
      "Original model: loss: 0.14454832673072815, acc: 0.9599999785423279\n",
      "Mixed-precision model: loss: 16.03598403930664, acc: 0.9603000283241272\n"
     ]
    }
   ],
   "source": [
    "! python main_phase1.py"
   ]
  },
  {
   "cell_type": "code",
   "execution_count": 3,
   "id": "a9e0d80b-e7c6-4608-8d10-713c5a5f075d",
   "metadata": {
    "tags": []
   },
   "outputs": [
    {
     "name": "stdout",
     "output_type": "stream",
     "text": [
      "2023-03-07 10:44:00.544255: I tensorflow/core/platform/cpu_feature_guard.cc:193] This TensorFlow binary is optimized with oneAPI Deep Neural Network Library (oneDNN) to use the following CPU instructions in performance-critical operations:  AVX2 AVX512F AVX512_VNNI FMA\n",
      "To enable them in other operations, rebuild TensorFlow with the appropriate compiler flags.\n",
      "2023-03-07 10:44:00.698107: I tensorflow/core/util/port.cc:104] oneDNN custom operations are on. You may see slightly different numerical results due to floating-point round-off errors from different computation orders. To turn them off, set the environment variable `TF_ENABLE_ONEDNN_OPTS=0`.\n",
      "2023-03-07 10:44:02.385207: I tensorflow/core/platform/cpu_feature_guard.cc:193] This TensorFlow binary is optimized with oneAPI Deep Neural Network Library (oneDNN) to use the following CPU instructions in performance-critical operations:  AVX2 AVX512F AVX512_VNNI FMA\n",
      "To enable them in other operations, rebuild TensorFlow with the appropriate compiler flags.\n",
      "2023-03-07 10:44:03.140493: I tensorflow/core/common_runtime/gpu/gpu_device.cc:1613] Created device /job:localhost/replica:0/task:0/device:GPU:0 with 78972 MB memory:  -> device: 0, name: NVIDIA A100 80GB PCIe, pci bus id: 0000:4b:00.0, compute capability: 8.0\n",
      "2023-03-07 10:44:06.268556: I tensorflow/compiler/xla/stream_executor/cuda/cuda_blas.cc:630] TensorFloat-32 will be used for the matrix multiplication. This will only be logged once.\n",
      "313/313 [==============================] - 2s 4ms/step - loss: 0.1445 - accuracy: 0.9600\n",
      "313/313 [==============================] - 1s 4ms/step - loss: 16.0356 - accuracy: 0.9602\n",
      "Original model: loss: 0.14454832673072815, acc: 0.9599999785423279\n",
      "Mixed-precision model: loss: 16.035642623901367, acc: 0.9602000117301941\n"
     ]
    }
   ],
   "source": [
    "! python main_phase1.py"
   ]
  },
  {
   "cell_type": "code",
   "execution_count": 4,
   "id": "009f0f99-69ab-4cde-b1aa-4526e50e8587",
   "metadata": {
    "tags": []
   },
   "outputs": [
    {
     "name": "stdout",
     "output_type": "stream",
     "text": [
      "2023-03-07 10:45:26.736199: I tensorflow/core/platform/cpu_feature_guard.cc:193] This TensorFlow binary is optimized with oneAPI Deep Neural Network Library (oneDNN) to use the following CPU instructions in performance-critical operations:  AVX2 AVX512F AVX512_VNNI FMA\n",
      "To enable them in other operations, rebuild TensorFlow with the appropriate compiler flags.\n",
      "2023-03-07 10:45:26.890798: I tensorflow/core/util/port.cc:104] oneDNN custom operations are on. You may see slightly different numerical results due to floating-point round-off errors from different computation orders. To turn them off, set the environment variable `TF_ENABLE_ONEDNN_OPTS=0`.\n",
      "2023-03-07 10:45:28.689998: I tensorflow/core/platform/cpu_feature_guard.cc:193] This TensorFlow binary is optimized with oneAPI Deep Neural Network Library (oneDNN) to use the following CPU instructions in performance-critical operations:  AVX2 AVX512F AVX512_VNNI FMA\n",
      "To enable them in other operations, rebuild TensorFlow with the appropriate compiler flags.\n",
      "2023-03-07 10:45:29.682874: I tensorflow/core/common_runtime/gpu/gpu_device.cc:1613] Created device /job:localhost/replica:0/task:0/device:GPU:0 with 78972 MB memory:  -> device: 0, name: NVIDIA A100 80GB PCIe, pci bus id: 0000:4b:00.0, compute capability: 8.0\n",
      "2023-03-07 10:45:32.876935: I tensorflow/compiler/xla/stream_executor/cuda/cuda_blas.cc:630] TensorFloat-32 will be used for the matrix multiplication. This will only be logged once.\n",
      "313/313 [==============================] - 1s 4ms/step - loss: 0.1445 - accuracy: 0.9600\n",
      "313/313 [==============================] - 1s 3ms/step - loss: 16.0368 - accuracy: 0.9600\n",
      "Original model: loss: 0.14454832673072815, acc: 0.9599999785423279\n",
      "Mixed-precision model: loss: 16.036760330200195, acc: 0.9599999785423279\n"
     ]
    }
   ],
   "source": [
    "! python main_phase1.py"
   ]
  },
  {
   "cell_type": "code",
   "execution_count": 5,
   "id": "6d2a1d0f-e163-41de-9cd6-9a6699c20e7d",
   "metadata": {
    "tags": []
   },
   "outputs": [
    {
     "name": "stdout",
     "output_type": "stream",
     "text": [
      "2023-03-07 10:46:20.155243: I tensorflow/core/platform/cpu_feature_guard.cc:193] This TensorFlow binary is optimized with oneAPI Deep Neural Network Library (oneDNN) to use the following CPU instructions in performance-critical operations:  AVX2 AVX512F AVX512_VNNI FMA\n",
      "To enable them in other operations, rebuild TensorFlow with the appropriate compiler flags.\n",
      "2023-03-07 10:46:20.304036: I tensorflow/core/util/port.cc:104] oneDNN custom operations are on. You may see slightly different numerical results due to floating-point round-off errors from different computation orders. To turn them off, set the environment variable `TF_ENABLE_ONEDNN_OPTS=0`.\n",
      "2023-03-07 10:46:21.773393: I tensorflow/core/platform/cpu_feature_guard.cc:193] This TensorFlow binary is optimized with oneAPI Deep Neural Network Library (oneDNN) to use the following CPU instructions in performance-critical operations:  AVX2 AVX512F AVX512_VNNI FMA\n",
      "To enable them in other operations, rebuild TensorFlow with the appropriate compiler flags.\n",
      "2023-03-07 10:46:22.508774: I tensorflow/core/common_runtime/gpu/gpu_device.cc:1613] Created device /job:localhost/replica:0/task:0/device:GPU:0 with 78972 MB memory:  -> device: 0, name: NVIDIA A100 80GB PCIe, pci bus id: 0000:4b:00.0, compute capability: 8.0\n",
      "2023-03-07 10:46:24.620207: I tensorflow/compiler/xla/stream_executor/cuda/cuda_blas.cc:630] TensorFloat-32 will be used for the matrix multiplication. This will only be logged once.\n",
      "313/313 [==============================] - 1s 3ms/step - loss: 0.1445 - accuracy: 0.9600\n",
      "313/313 [==============================] - 1s 3ms/step - loss: 16.0368 - accuracy: 0.9602\n",
      "Original model: loss: 0.14454832673072815, acc: 0.9599999785423279\n",
      "Mixed-precision model: loss: 16.036766052246094, acc: 0.9602000117301941\n"
     ]
    }
   ],
   "source": [
    "! python main_phase1.py"
   ]
  },
  {
   "cell_type": "code",
   "execution_count": null,
   "id": "db838b76-73fc-4668-9a3b-1551a77d6574",
   "metadata": {},
   "outputs": [],
   "source": []
  }
 ],
 "metadata": {
  "kernelspec": {
   "display_name": "Python 3",
   "language": "python",
   "name": "python3"
  },
  "language_info": {
   "codemirror_mode": {
    "name": "ipython",
    "version": 3
   },
   "file_extension": ".py",
   "mimetype": "text/x-python",
   "name": "python",
   "nbconvert_exporter": "python",
   "pygments_lexer": "ipython3",
   "version": "3.8.10"
  }
 },
 "nbformat": 4,
 "nbformat_minor": 5
}
