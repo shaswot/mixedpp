{
 "cells": [
  {
   "cell_type": "code",
   "execution_count": 1,
   "id": "445e8425-9851-4ceb-b5b9-750e7e3050b7",
   "metadata": {
    "jupyter": {
     "source_hidden": true
    }
   },
   "outputs": [],
   "source": [
    "import os\n",
    "import sys\n",
    "import git\n",
    "import pathlib\n",
    "\n",
    "import random\n",
    "\n",
    "import numpy as np\n",
    "import pandas as pd\n",
    "import tensorflow as tf\n",
    "from tensorflow import keras\n",
    "from tensorflow.keras import models, layers\n",
    "\n",
    "os.environ['TF_CPP_MIN_LOG_LEVEL'] = '3' \n",
    "\n",
    "PROJ_ROOT_PATH = pathlib.Path(git.Repo('.', search_parent_directories=True).working_tree_dir)\n",
    "PROJ_ROOT =  str(PROJ_ROOT_PATH)\n",
    "if PROJ_ROOT not in sys.path:\n",
    "    sys.path.append(PROJ_ROOT)\n",
    "\n",
    "from libs.utils import prepare_fashion, prepare_mnist\n",
    "from libs.constants import MODELS_FOLDER"
   ]
  },
  {
   "cell_type": "code",
   "execution_count": 2,
   "id": "28c392a3-4738-4849-a909-55e3fbf1f1cc",
   "metadata": {
    "jupyter": {
     "source_hidden": true
    },
    "tags": []
   },
   "outputs": [],
   "source": [
    "# Limit GPU growth\n",
    "gpus = tf.config.experimental.list_physical_devices('GPU')\n",
    "if gpus:\n",
    "    try:\n",
    "        for gpu in gpus:\n",
    "            tf.config.experimental.set_memory_growth(gpu, True)\n",
    "    except RuntimeError as e:\n",
    "        print(e)"
   ]
  },
  {
   "cell_type": "code",
   "execution_count": 3,
   "id": "eb69098f-ff40-471a-9304-049254af3334",
   "metadata": {
    "jupyter": {
     "source_hidden": true
    }
   },
   "outputs": [],
   "source": [
    "from libs.seeds import load_model_seeds\n",
    "model_seeds = load_model_seeds()"
   ]
  },
  {
   "cell_type": "code",
   "execution_count": 4,
   "id": "c90e3dad-ad42-42c6-9c4d-27fd297d9919",
   "metadata": {
    "jupyter": {
     "source_hidden": true
    }
   },
   "outputs": [],
   "source": [
    "# define dataset and model architecture\n",
    "# parser = argparse.ArgumentParser()\n",
    "# parser.add_argument('dataset')\n",
    "# parser.add_argument('model_arch')\n",
    "# args= parser.parse_args()\n",
    "\n",
    "# dataset = args.dataset\n",
    "# model_arch = args.model_arch"
   ]
  },
  {
   "cell_type": "code",
   "execution_count": 5,
   "id": "bfdd49a4-fa08-4fe8-a8de-eaa8451c5fd0",
   "metadata": {
    "jupyter": {
     "source_hidden": true
    }
   },
   "outputs": [],
   "source": [
    "# define columns\n",
    "columns = ['model_type'] + model_seeds\n",
    "# define dataframe\n",
    "data = pd.DataFrame(columns = columns)"
   ]
  },
  {
   "cell_type": "code",
   "execution_count": 24,
   "id": "cef7a35d-a731-4793-9b40-effbbddf2b85",
   "metadata": {
    "jupyter": {
     "source_hidden": true
    },
    "tags": []
   },
   "outputs": [],
   "source": [
    "models_to_evaluate = ['mnist--fcA','mnist--lenetA','fashion--lenetA']"
   ]
  },
  {
   "cell_type": "code",
   "execution_count": 68,
   "id": "d8f14681-7b2d-4d06-9646-ea62ef543e2c",
   "metadata": {
    "jupyter": {
     "source_hidden": true
    },
    "tags": []
   },
   "outputs": [],
   "source": [
    "result = {}\n",
    "for model_type in models_to_evaluate:\n",
    "    [dataset, model_arch] = model_type.split('--')\n",
    "    # prepare data\n",
    "    if dataset == \"fashion\":\n",
    "        (x_train, y_train), (x_test, y_test) = prepare_fashion()\n",
    "    elif dataset == \"mnist\":\n",
    "        (x_train, y_train), (x_test, y_test) = prepare_mnist()\n",
    "    else:\n",
    "        print(\"Invalid Dataset or Dataset not found\")\n",
    "        \n",
    "    # evaluate for all seeds    \n",
    "    for seed in model_seeds:\n",
    "        # load model\n",
    "        model_type = dataset + \"--\" + model_arch\n",
    "        model_instance = model_type + \"-\" + str(seed)\n",
    "        model_filename = model_instance + \".h5\"\n",
    "        model_subdir = pathlib.Path(MODELS_FOLDER / model_arch)\n",
    "        model_file = str(pathlib.Path(model_subdir/ model_filename))\n",
    "        model = models.load_model(model_file)\n",
    "\n",
    "        score = model.evaluate(x_test, \n",
    "                               y_test, \n",
    "                               batch_size=32,\n",
    "                              verbose=False)  # returns ['loss', 'accuracy']\n",
    "        result.setdefault(model_type,{}).setdefault(seed, {}).setdefault(\"acc\", score[1])\n"
   ]
  },
  {
   "cell_type": "code",
   "execution_count": 73,
   "id": "c38c4803-3430-4c64-ba2f-189c326d1eea",
   "metadata": {
    "tags": []
   },
   "outputs": [],
   "source": [
    "# Create a dataframe from the dictionary\n",
    "df = pd.DataFrame.from_dict(result)\n",
    "\n",
    "# Use seed as column headers\n",
    "df = df.transpose()\n",
    "\n",
    "# apply the lambda function to every element of the dataframe and extract the 'acc' value\n",
    "df = df.applymap(lambda x: x['acc'])\n",
    "\n",
    "# calculate max, avg, min\n",
    "df['max'] = df.max(axis=1)\n",
    "df['mean'] = df.mean(axis=1)\n",
    "df['min'] = df.min(axis=1)"
   ]
  },
  {
   "cell_type": "code",
   "execution_count": 74,
   "id": "f9c95f23-8941-446e-8bd1-337d191cca95",
   "metadata": {
    "jupyter": {
     "source_hidden": true
    },
    "tags": []
   },
   "outputs": [
    {
     "data": {
      "text/html": [
       "<div>\n",
       "<style scoped>\n",
       "    .dataframe tbody tr th:only-of-type {\n",
       "        vertical-align: middle;\n",
       "    }\n",
       "\n",
       "    .dataframe tbody tr th {\n",
       "        vertical-align: top;\n",
       "    }\n",
       "\n",
       "    .dataframe thead th {\n",
       "        text-align: right;\n",
       "    }\n",
       "</style>\n",
       "<table border=\"1\" class=\"dataframe\">\n",
       "  <thead>\n",
       "    <tr style=\"text-align: right;\">\n",
       "      <th></th>\n",
       "      <th>1437</th>\n",
       "      <th>2101</th>\n",
       "      <th>2331</th>\n",
       "      <th>4283</th>\n",
       "      <th>6199</th>\n",
       "      <th>max</th>\n",
       "      <th>mean</th>\n",
       "      <th>min</th>\n",
       "    </tr>\n",
       "  </thead>\n",
       "  <tbody>\n",
       "    <tr>\n",
       "      <th>mnist--fcA</th>\n",
       "      <td>0.9612</td>\n",
       "      <td>0.9650</td>\n",
       "      <td>0.9626</td>\n",
       "      <td>0.9692</td>\n",
       "      <td>0.9682</td>\n",
       "      <td>0.9692</td>\n",
       "      <td>0.965900</td>\n",
       "      <td>0.9612</td>\n",
       "    </tr>\n",
       "    <tr>\n",
       "      <th>mnist--lenetA</th>\n",
       "      <td>0.9902</td>\n",
       "      <td>0.9909</td>\n",
       "      <td>0.9910</td>\n",
       "      <td>0.9898</td>\n",
       "      <td>0.9882</td>\n",
       "      <td>0.9910</td>\n",
       "      <td>0.990183</td>\n",
       "      <td>0.9882</td>\n",
       "    </tr>\n",
       "    <tr>\n",
       "      <th>fashion--lenetA</th>\n",
       "      <td>0.8973</td>\n",
       "      <td>0.8925</td>\n",
       "      <td>0.9019</td>\n",
       "      <td>0.9004</td>\n",
       "      <td>0.9008</td>\n",
       "      <td>0.9019</td>\n",
       "      <td>0.899133</td>\n",
       "      <td>0.8925</td>\n",
       "    </tr>\n",
       "  </tbody>\n",
       "</table>\n",
       "</div>"
      ],
      "text/plain": [
       "                   1437    2101    2331    4283    6199     max      mean  \\\n",
       "mnist--fcA       0.9612  0.9650  0.9626  0.9692  0.9682  0.9692  0.965900   \n",
       "mnist--lenetA    0.9902  0.9909  0.9910  0.9898  0.9882  0.9910  0.990183   \n",
       "fashion--lenetA  0.8973  0.8925  0.9019  0.9004  0.9008  0.9019  0.899133   \n",
       "\n",
       "                    min  \n",
       "mnist--fcA       0.9612  \n",
       "mnist--lenetA    0.9882  \n",
       "fashion--lenetA  0.8925  "
      ]
     },
     "execution_count": 74,
     "metadata": {},
     "output_type": "execute_result"
    }
   ],
   "source": [
    "df"
   ]
  },
  {
   "cell_type": "code",
   "execution_count": null,
   "id": "febfaaa9-8b88-4335-bf54-63c033e6ecba",
   "metadata": {
    "jupyter": {
     "source_hidden": true
    }
   },
   "outputs": [],
   "source": []
  }
 ],
 "metadata": {
  "kernelspec": {
   "display_name": "Python 3",
   "language": "python",
   "name": "python3"
  },
  "language_info": {
   "codemirror_mode": {
    "name": "ipython",
    "version": 3
   },
   "file_extension": ".py",
   "mimetype": "text/x-python",
   "name": "python",
   "nbconvert_exporter": "python",
   "pygments_lexer": "ipython3",
   "version": "3.8.10"
  }
 },
 "nbformat": 4,
 "nbformat_minor": 5
}
