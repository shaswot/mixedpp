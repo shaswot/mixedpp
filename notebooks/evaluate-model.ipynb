{
 "cells": [
  {
   "cell_type": "code",
   "execution_count": 1,
   "id": "445e8425-9851-4ceb-b5b9-750e7e3050b7",
   "metadata": {},
   "outputs": [],
   "source": [
    "import os\n",
    "import sys\n",
    "import git\n",
    "import pathlib\n",
    "\n",
    "import random\n",
    "\n",
    "import numpy as np\n",
    "import tensorflow as tf\n",
    "from tensorflow import keras\n",
    "from tensorflow.keras import models, layers\n",
    "\n",
    "os.environ['TF_CPP_MIN_LOG_LEVEL'] = '3' \n",
    "\n",
    "PROJ_ROOT_PATH = pathlib.Path(git.Repo('.', search_parent_directories=True).working_tree_dir)\n",
    "PROJ_ROOT =  str(PROJ_ROOT_PATH)\n",
    "if PROJ_ROOT not in sys.path:\n",
    "    sys.path.append(PROJ_ROOT)\n",
    "\n",
    "from libs.utils import prepare_fashion, prepare_mnist\n",
    "\n",
    "from libs.constants import MODELS_FOLDER"
   ]
  },
  {
   "cell_type": "code",
   "execution_count": 2,
   "id": "28c392a3-4738-4849-a909-55e3fbf1f1cc",
   "metadata": {},
   "outputs": [],
   "source": [
    "# Limit GPU growth\n",
    "gpus = tf.config.experimental.list_physical_devices('GPU')\n",
    "if gpus:\n",
    "    try:\n",
    "        for gpu in gpus:\n",
    "            tf.config.experimental.set_memory_growth(gpu, True)\n",
    "    except RuntimeError as e:\n",
    "        print(e)"
   ]
  },
  {
   "cell_type": "code",
   "execution_count": 3,
   "id": "eb69098f-ff40-471a-9304-049254af3334",
   "metadata": {},
   "outputs": [],
   "source": [
    "from libs.seeds import load_model_seeds\n",
    "model_seeds = load_model_seeds()"
   ]
  },
  {
   "cell_type": "code",
   "execution_count": 7,
   "id": "c90e3dad-ad42-42c6-9c4d-27fd297d9919",
   "metadata": {},
   "outputs": [],
   "source": [
    "# define dataset and model architecture\n",
    "# parser = argparse.ArgumentParser()\n",
    "# parser.add_argument('dataset')\n",
    "# parser.add_argument('model_arch')\n",
    "# args= parser.parse_args()\n",
    "\n",
    "# dataset = args.dataset\n",
    "# model_arch = args.model_arch\n",
    "\n",
    "dataset = \"fashion\"\n",
    "model_arch = \"lenetA\""
   ]
  },
  {
   "cell_type": "code",
   "execution_count": 8,
   "id": "544fab88-8523-4230-ac8c-d7df584cbb3e",
   "metadata": {},
   "outputs": [],
   "source": [
    "# prepare data\n",
    "if dataset == \"fashion\":\n",
    "    (x_train, y_train), (x_test, y_test) = prepare_fashion()\n",
    "elif dataset == \"mnist\":\n",
    "    (x_train, y_train), (x_test, y_test) = prepare_mnist()\n",
    "else:\n",
    "    print(\"Invalid Dataset or Dataset not found\")\n",
    "        "
   ]
  },
  {
   "cell_type": "code",
   "execution_count": 9,
   "id": "d8f14681-7b2d-4d06-9646-ea62ef543e2c",
   "metadata": {
    "tags": []
   },
   "outputs": [
    {
     "name": "stdout",
     "output_type": "stream",
     "text": [
      "313/313 [==============================] - 5s 7ms/step - loss: 0.3242 - accuracy: 0.8973\n"
     ]
    }
   ],
   "source": [
    "seed = model_seeds[0]\n",
    "# load model\n",
    "model_instance = dataset + \"--\" + model_arch + \"-\" + str(seed)\n",
    "model_filename = model_instance + \".h5\"\n",
    "model_subdir = pathlib.Path(MODELS_FOLDER / model_arch)\n",
    "model_file = str(pathlib.Path(model_subdir/ model_filename))\n",
    "model = models.load_model(model_file)\n",
    "\n",
    "score = model.evaluate(x_test, \n",
    "                       y_test, \n",
    "                       batch_size=32)"
   ]
  },
  {
   "cell_type": "code",
   "execution_count": null,
   "id": "bfdd49a4-fa08-4fe8-a8de-eaa8451c5fd0",
   "metadata": {},
   "outputs": [],
   "source": []
  }
 ],
 "metadata": {
  "kernelspec": {
   "display_name": "Python 3",
   "language": "python",
   "name": "python3"
  },
  "language_info": {
   "codemirror_mode": {
    "name": "ipython",
    "version": 3
   },
   "file_extension": ".py",
   "mimetype": "text/x-python",
   "name": "python",
   "nbconvert_exporter": "python",
   "pygments_lexer": "ipython3",
   "version": "3.8.10"
  }
 },
 "nbformat": 4,
 "nbformat_minor": 5
}
