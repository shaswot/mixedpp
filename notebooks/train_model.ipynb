{
 "cells": [
  {
   "cell_type": "code",
   "execution_count": 1,
   "id": "8aa7b72c-8367-437f-a8ce-300c1ae2b441",
   "metadata": {
    "tags": []
   },
   "outputs": [],
   "source": [
    "import os\n",
    "import sys\n",
    "import git\n",
    "import pathlib\n",
    "\n",
    "import random\n",
    "\n",
    "import numpy as np\n",
    "import tensorflow as tf\n",
    "from tensorflow import keras\n",
    "from tensorflow.keras import models, layers\n",
    "\n",
    "os.environ['TF_CPP_MIN_LOG_LEVEL'] = '3'\n",
    "os.environ['TF_ENABLE_ONEDNN_OPTS'] = '0'\n",
    "\n",
    "PROJ_ROOT_PATH = pathlib.Path(git.Repo('.', search_parent_directories=True).working_tree_dir)\n",
    "PROJ_ROOT =  str(PROJ_ROOT_PATH)\n",
    "if PROJ_ROOT not in sys.path:\n",
    "    sys.path.append(PROJ_ROOT)\n",
    "\n",
    "from libs.utils import prepare_fashion, prepare_mnist\n",
    "from libs.constants import MODELS_FOLDER"
   ]
  },
  {
   "cell_type": "code",
   "execution_count": 2,
   "id": "981f4818-338a-431b-8e57-a6b7e69fcd40",
   "metadata": {
    "tags": []
   },
   "outputs": [],
   "source": [
    "# Limit GPU growth\n",
    "gpus = tf.config.experimental.list_physical_devices('GPU')\n",
    "if gpus:\n",
    "    try:\n",
    "        for gpu in gpus:\n",
    "            tf.config.experimental.set_memory_growth(gpu, True)\n",
    "    except RuntimeError as e:\n",
    "        print(e)"
   ]
  },
  {
   "cell_type": "code",
   "execution_count": 3,
   "id": "28d172c3-8d65-44a2-b4ef-573d93b447e3",
   "metadata": {
    "tags": []
   },
   "outputs": [],
   "source": [
    "from libs.model_archs import lenetA, fcA"
   ]
  },
  {
   "cell_type": "code",
   "execution_count": 4,
   "id": "608d6f93-659e-4046-8073-af0c31579c70",
   "metadata": {
    "tags": []
   },
   "outputs": [],
   "source": [
    "from libs.seeds import load_model_seeds\n",
    "model_seeds = load_model_seeds()"
   ]
  },
  {
   "cell_type": "code",
   "execution_count": 5,
   "id": "a862f26b-9db3-4fba-af13-764da2645537",
   "metadata": {},
   "outputs": [],
   "source": [
    "# define dataset and model architecture\n",
    "# dataset = \"fashion\"\n",
    "dataset = \"mnist\"\n",
    "model_arch = \"lenetA\"\n",
    "# model_arch = \"fcA\"\n",
    "\n",
    "# set training hyperparameters\n",
    "batch_size = 32\n",
    "n_epochs = 10"
   ]
  },
  {
   "cell_type": "code",
   "execution_count": 6,
   "id": "20377ea0-c8a9-4cbf-9944-35cb6170781e",
   "metadata": {
    "tags": []
   },
   "outputs": [
    {
     "name": "stdout",
     "output_type": "stream",
     "text": [
      "Epoch 1/10\n",
      "1500/1500 [==============================] - 17s 8ms/step - loss: 0.1813 - accuracy: 0.9452 - val_loss: 0.0772 - val_accuracy: 0.9778\n",
      "Epoch 2/10\n",
      "1500/1500 [==============================] - 12s 8ms/step - loss: 0.0545 - accuracy: 0.9835 - val_loss: 0.0487 - val_accuracy: 0.9861\n",
      "Epoch 3/10\n",
      "1500/1500 [==============================] - 12s 8ms/step - loss: 0.0392 - accuracy: 0.9884 - val_loss: 0.0472 - val_accuracy: 0.9858\n",
      "Epoch 4/10\n",
      "1500/1500 [==============================] - 12s 8ms/step - loss: 0.0290 - accuracy: 0.9908 - val_loss: 0.0444 - val_accuracy: 0.9870\n",
      "Epoch 5/10\n",
      "1500/1500 [==============================] - 12s 8ms/step - loss: 0.0230 - accuracy: 0.9927 - val_loss: 0.0494 - val_accuracy: 0.9863\n",
      "Epoch 6/10\n",
      "1500/1500 [==============================] - 12s 8ms/step - loss: 0.0172 - accuracy: 0.9944 - val_loss: 0.0408 - val_accuracy: 0.9898\n",
      "Epoch 7/10\n",
      "1500/1500 [==============================] - 12s 8ms/step - loss: 0.0151 - accuracy: 0.9953 - val_loss: 0.0438 - val_accuracy: 0.9887\n",
      "Epoch 8/10\n",
      "1500/1500 [==============================] - 12s 8ms/step - loss: 0.0124 - accuracy: 0.9961 - val_loss: 0.0405 - val_accuracy: 0.9891\n",
      "Epoch 9/10\n",
      "1500/1500 [==============================] - 12s 8ms/step - loss: 0.0109 - accuracy: 0.9965 - val_loss: 0.0577 - val_accuracy: 0.9864\n",
      "Epoch 10/10\n",
      "1500/1500 [==============================] - 12s 8ms/step - loss: 0.0082 - accuracy: 0.9974 - val_loss: 0.0512 - val_accuracy: 0.9904\n"
     ]
    },
    {
     "data": {
      "text/plain": [
       "<keras.callbacks.History at 0x7f91149ed640>"
      ]
     },
     "execution_count": 6,
     "metadata": {},
     "output_type": "execute_result"
    }
   ],
   "source": [
    "# global seed\n",
    "seed = model_seeds[0]\n",
    "tf.random.set_seed(seed)\n",
    "np.random.seed(seed)\n",
    "\n",
    "# prepare data\n",
    "if dataset == \"fashion\":\n",
    "    (x_train, y_train), (x_test, y_test) = prepare_fashion()\n",
    "elif dataset == \"mnist\":\n",
    "    (x_train, y_train), (x_test, y_test) = prepare_mnist()\n",
    "else:\n",
    "    print(\"Invalid Dataset or Dataset not found\")\n",
    "\n",
    "# create model\n",
    "input_shape = (x_train.shape[1], x_train.shape[2], x_train.shape[3])\n",
    "n_classes = y_train.shape[1]\n",
    "\n",
    "modelarchfuncList = {'lenetA': lenetA, 'fcA': fcA }\n",
    "parameters = {'input_shape':input_shape, 'nb_classes':n_classes}\n",
    "\n",
    "model = modelarchfuncList[model_arch](**parameters)\n",
    "\n",
    "model.compile(\n",
    "    loss=keras.losses.categorical_crossentropy,\n",
    "    optimizer='adam',\n",
    "    metrics=['accuracy'],\n",
    ")\n",
    "\n",
    "# train model\n",
    "model.fit(x_train, \n",
    "          y_train, \n",
    "          batch_size=batch_size, \n",
    "          epochs=n_epochs,\n",
    "          validation_split=0.2)"
   ]
  },
  {
   "cell_type": "code",
   "execution_count": 7,
   "id": "55367b94-750b-44fd-b60a-7b7fcbbff504",
   "metadata": {
    "tags": []
   },
   "outputs": [
    {
     "name": "stdout",
     "output_type": "stream",
     "text": [
      "313/313 [==============================] - 2s 5ms/step - loss: 0.0333 - accuracy: 0.9909\n",
      "Original Accuracy:  [0.03325751796364784, 0.9908999800682068]\n"
     ]
    }
   ],
   "source": [
    "# evaluate model\n",
    "score = model.evaluate(x_test, \n",
    "                       y_test, \n",
    "                       batch_size=batch_size)\n",
    "\n",
    "print(\"Original Accuracy: \",score)"
   ]
  },
  {
   "cell_type": "code",
   "execution_count": 8,
   "id": "bf126785-e50a-461e-8c20-39e7935853e9",
   "metadata": {
    "tags": []
   },
   "outputs": [
    {
     "name": "stdout",
     "output_type": "stream",
     "text": [
      "Model: \"lenetA\"\n",
      "_________________________________________________________________\n",
      " Layer (type)                Output Shape              Param #   \n",
      "=================================================================\n",
      " conv2d (Conv2D)             (None, 24, 24, 6)         156       \n",
      "                                                                 \n",
      " average_pooling2d (AverageP  (None, 23, 23, 6)        0         \n",
      " ooling2D)                                                       \n",
      "                                                                 \n",
      " conv2d_1 (Conv2D)           (None, 19, 19, 16)        2416      \n",
      "                                                                 \n",
      " average_pooling2d_1 (Averag  (None, 9, 9, 16)         0         \n",
      " ePooling2D)                                                     \n",
      "                                                                 \n",
      " conv2d_2 (Conv2D)           (None, 5, 5, 120)         48120     \n",
      "                                                                 \n",
      " flatten (Flatten)           (None, 3000)              0         \n",
      "                                                                 \n",
      " dense (Dense)               (None, 84)                252084    \n",
      "                                                                 \n",
      " dense_1 (Dense)             (None, 10)                850       \n",
      "                                                                 \n",
      "=================================================================\n",
      "Total params: 303,626\n",
      "Trainable params: 303,626\n",
      "Non-trainable params: 0\n",
      "_________________________________________________________________\n"
     ]
    }
   ],
   "source": [
    "# save model\n",
    "model_type = dataset + \"--\" + model_arch\n",
    "model_instance = model_type + \"-\" + str(seed)\n",
    "model_filename = model_instance + \".h5\"\n",
    "model_subdir = pathlib.Path(MODELS_FOLDER / model.name)\n",
    "pathlib.Path(model_subdir).mkdir(parents=True, exist_ok=True)\n",
    "model_file = str(pathlib.Path(model_subdir/ model_filename))\n",
    "model.save(model_file)\n",
    "model.summary()"
   ]
  },
  {
   "cell_type": "code",
   "execution_count": null,
   "id": "6d36e214-ee82-401e-bc25-74383a2c3a39",
   "metadata": {},
   "outputs": [],
   "source": []
  }
 ],
 "metadata": {
  "kernelspec": {
   "display_name": "Python 3",
   "language": "python",
   "name": "python3"
  },
  "language_info": {
   "codemirror_mode": {
    "name": "ipython",
    "version": 3
   },
   "file_extension": ".py",
   "mimetype": "text/x-python",
   "name": "python",
   "nbconvert_exporter": "python",
   "pygments_lexer": "ipython3",
   "version": "3.8.10"
  }
 },
 "nbformat": 4,
 "nbformat_minor": 5
}
