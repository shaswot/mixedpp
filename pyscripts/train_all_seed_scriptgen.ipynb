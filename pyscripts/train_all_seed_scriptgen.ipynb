{
 "cells": [
  {
   "cell_type": "code",
   "execution_count": 1,
   "id": "b72aad97-a0eb-4463-89fa-94ab962c5ead",
   "metadata": {
    "tags": []
   },
   "outputs": [],
   "source": [
    "import os\n",
    "import sys\n",
    "import git\n",
    "import pathlib\n",
    "\n",
    "PROJ_ROOT_PATH = pathlib.Path(git.Repo('.', search_parent_directories=True).working_tree_dir)\n",
    "PROJ_ROOT =  str(PROJ_ROOT_PATH)\n",
    "if PROJ_ROOT not in sys.path:\n",
    "    sys.path.append(PROJ_ROOT)"
   ]
  },
  {
   "cell_type": "code",
   "execution_count": 2,
   "id": "1d03d67c-4ce5-4550-96c7-b834658b37df",
   "metadata": {
    "tags": []
   },
   "outputs": [],
   "source": [
    "from libs.seeds import load_model_seeds\n",
    "model_seeds = load_model_seeds()"
   ]
  },
  {
   "cell_type": "code",
   "execution_count": 3,
   "id": "f7d98d9d-c238-4a35-b486-f2ca7050af08",
   "metadata": {
    "tags": []
   },
   "outputs": [
    {
     "name": "stdout",
     "output_type": "stream",
     "text": [
      "python train_model_oneseed.py --dataset cifar10 --model_arch vgg16F --seed 1437 --batch_size 128 --epochs 50 --loss_function categorical_crossentropy 1> train_model_oneseed_cifar10--vgg16F_1437.out 2>&1 &\n",
      "python train_model_oneseed.py --dataset cifar10 --model_arch vgg16F --seed 2101 --batch_size 128 --epochs 50 --loss_function categorical_crossentropy 1> train_model_oneseed_cifar10--vgg16F_2101.out 2>&1 &\n",
      "python train_model_oneseed.py --dataset cifar10 --model_arch vgg16F --seed 2331 --batch_size 128 --epochs 50 --loss_function categorical_crossentropy 1> train_model_oneseed_cifar10--vgg16F_2331.out 2>&1 &\n",
      "python train_model_oneseed.py --dataset cifar10 --model_arch vgg16F --seed 4283 --batch_size 128 --epochs 50 --loss_function categorical_crossentropy 1> train_model_oneseed_cifar10--vgg16F_4283.out 2>&1 &\n",
      "python train_model_oneseed.py --dataset cifar10 --model_arch vgg16F --seed 6199 --batch_size 128 --epochs 50 --loss_function categorical_crossentropy 1> train_model_oneseed_cifar10--vgg16F_6199.out 2>&1 &\n"
     ]
    }
   ],
   "source": [
    "dataset = 'cifar10'\n",
    "model_arch = 'vgg16F'\n",
    "batch_size = '128'\n",
    "epochs = '5000'\n",
    "loss_function = 'categorical_crossentropy'\n",
    "\n",
    "for seed in model_seeds:\n",
    "    print(f\"python train_model_oneseed.py \\\n",
    "--dataset {dataset} \\\n",
    "--model_arch {model_arch} \\\n",
    "--seed {seed} \\\n",
    "--batch_size {batch_size} \\\n",
    "--epochs {epochs} \\\n",
    "--loss_function {loss_function} 1> train_model_oneseed_{dataset}--{model_arch}_{seed}.out 2>&1 &\")"
   ]
  }
 ],
 "metadata": {
  "kernelspec": {
   "display_name": "Python 3 (ipykernel)",
   "language": "python",
   "name": "python3"
  },
  "language_info": {
   "codemirror_mode": {
    "name": "ipython",
    "version": 3
   },
   "file_extension": ".py",
   "mimetype": "text/x-python",
   "name": "python",
   "nbconvert_exporter": "python",
   "pygments_lexer": "ipython3",
   "version": "3.10.6"
  }
 },
 "nbformat": 4,
 "nbformat_minor": 5
}
